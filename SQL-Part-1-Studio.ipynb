{
    "metadata": {
        "kernelspec": {
            "name": "SQL",
            "display_name": "SQL",
            "language": "sql"
        },
        "language_info": {
            "name": "sql",
            "version": ""
        },
        "extensions": {
            "azuredatastudio": {
                "version": 1,
                "views": []
            }
        }
    },
    "nbformat_minor": 2,
    "nbformat": 4,
    "cells": [
        {
            "cell_type": "markdown",
            "source": [
                "# SQL Part 1 Studio\n",
                "\n",
                "### Let's practice your SQL quering skills!  For each question, work along in the notebook adding your query and answering the questions. \n",
                "\n",
                "### **DataSet**\n",
                "\n",
                "### <span style=\"font-size: 14px; font-family: -apple-system, BlinkMacSystemFont, sans-serif;\">We will be using the Goodbooks-10k dataset from the exercises in the prep work.&nbsp; Feel free to reference your notebook.</span>\n",
                "\n",
                "- The dataset can be found here: [goodbooks-10k](https://www.kaggle.com/zygmunt/goodbooks-10k)\n",
                "- You can access the **BooksDB** in the Launchcode server.\n",
                "\n",
                "### **Business Issue**\n",
                "\n",
                "You work for a small independant book store and you want to increase sales by running various promotions.  Start by becoming more familar with the BooksDB."
            ],
            "metadata": {
                "azdata_cell_guid": "b9034d8a-b631-48bf-a895-1012a6ffa784"
            }
        },
        {
            "cell_type": "markdown",
            "source": [
                "## Part 1. BooksDB Questions\n",
                "\n",
                "<span style=\"color: rgba(0, 0, 0, 0.87); font-family: -apple-system, system-ui, &quot;Segoe UI&quot;, Helvetica, Arial, sans-serif, &quot;Apple Color Emoji&quot;, &quot;Segoe UI Emoji&quot;, &quot;Segoe UI Symbol&quot;; background-color: rgb(255, 255, 255);\">Question 1:&nbsp; Write a query of the books table, returning the TOP 100 results and&nbsp; includes, book_id, authors, title, average_rating.&nbsp; Use an alias for at least one column and in descending order of rating.&nbsp; What is the number one book?</span>"
            ],
            "metadata": {
                "azdata_cell_guid": "6e55eb1c-4a14-4076-90d2-95ed17a6309f",
                "tags": [
                    "hide_input"
                ]
            },
            "attachments": {}
        },
        {
            "cell_type": "code",
            "source": [
                "-- return top 100 results\n",
                "SELECT TOP (100) average_rating AS 'rating',\n",
                "    book_id, \n",
                "    authors, \n",
                "    title\n",
                "FROM BooksDB.dbo.books \n",
                "ORDER BY 'rating' DESC;"
            ],
            "metadata": {
                "azdata_cell_guid": "470b0ca4-9a32-4b46-a42e-bbb645101769",
                "tags": [],
                "language": "sql"
            },
            "outputs": [
                {
                    "output_type": "display_data",
                    "data": {
                        "text/html": "(100 rows affected)"
                    },
                    "metadata": {}
                },
                {
                    "output_type": "display_data",
                    "data": {
                        "text/html": "Total execution time: 00:00:00.117"
                    },
                    "metadata": {}
                },
                {
                    "output_type": "execute_result",
                    "metadata": {},
                    "execution_count": 17,
                    "data": {
                        "application/vnd.dataresource+json": {
                            "schema": {
                                "fields": [
                                    {
                                        "name": "rating"
                                    },
                                    {
                                        "name": "book_id"
                                    },
                                    {
                                        "name": "authors"
                                    },
                                    {
                                        "name": "title"
                                    }
                                ]
                            },
                            "data": [
                                {
                                    "0": "4.82",
                                    "1": "24812",
                                    "2": "Bill Watterson",
                                    "3": "The Complete Calvin and Hobbes"
                                },
                                {
                                    "0": "4.77",
                                    "1": "17332218",
                                    "2": "Brandon Sanderson",
                                    "3": "Words of Radiance (The Stormlight Archive, #2)"
                                },
                                {
                                    "0": "4.77",
                                    "1": "8",
                                    "2": "J.K. Rowling, Mary GrandPré",
                                    "3": "Harry Potter Boxed Set, Books 1-5 (Harry Potter, #1-5)"
                                },
                                {
                                    "0": "4.76",
                                    "1": "5031805",
                                    "2": "Anonymous, Lane T. Dennis, Wayne A. Grudem",
                                    "3": "ESV Study Bible"
                                },
                                {
                                    "0": "4.76",
                                    "1": "95602",
                                    "2": "Francine Rivers",
                                    "3": "Mark of the Lion Trilogy"
                                },
                                {
                                    "0": "4.75",
                                    "1": "24814",
                                    "2": "Bill Watterson",
                                    "3": "It's a Magical World: A Calvin and Hobbes Collection"
                                },
                                {
                                    "0": "4.74",
                                    "1": "862041",
                                    "2": "J.K. Rowling",
                                    "3": "Harry Potter Boxset (Harry Potter, #1-7)"
                                },
                                {
                                    "0": "4.74",
                                    "1": "70489",
                                    "2": "Bill Watterson",
                                    "3": "There's Treasure Everywhere: A Calvin and Hobbes Collection"
                                },
                                {
                                    "0": "4.73",
                                    "1": "10",
                                    "2": "J.K. Rowling",
                                    "3": "Harry Potter Collection (Harry Potter, #1-6)"
                                },
                                {
                                    "0": "4.73",
                                    "1": "59715",
                                    "2": "Bill Watterson",
                                    "3": "The Authoritative Calvin and Hobbes: A Calvin and Hobbes Treasury"
                                },
                                {
                                    "0": "4.73",
                                    "1": "24815",
                                    "2": "Bill Watterson",
                                    "3": "The Indispensable Calvin and Hobbes"
                                },
                                {
                                    "0": "4.72",
                                    "1": "17927395",
                                    "2": "Sarah J. Maas",
                                    "3": "A Court of Mist and Fury (A Court of Thorns and Roses, #2)"
                                },
                                {
                                    "0": "4.72",
                                    "1": "70487",
                                    "2": "Bill Watterson",
                                    "3": "Attack of the Deranged Mutant Killer Monster Snow Goons"
                                },
                                {
                                    "0": "4.71",
                                    "1": "24816",
                                    "2": "Bill Watterson",
                                    "3": "Homicidal Psycho Jungle Cat: A Calvin and Hobbes Collection"
                                },
                                {
                                    "0": "4.71",
                                    "1": "121792",
                                    "2": "Bill Watterson",
                                    "3": "The Revenge of the Baby-Sat"
                                },
                                {
                                    "0": "4.71",
                                    "1": "2350129",
                                    "2": "The Church of Jesus Christ of Latter-day Saints",
                                    "3": "Preach My Gospel: A Guide To Missionary Service"
                                },
                                {
                                    "0": "4.68",
                                    "1": "24818",
                                    "2": "Bill Watterson",
                                    "3": "The Days Are Just Packed: A Calvin and Hobbes Collection"
                                },
                                {
                                    "0": "4.67",
                                    "1": "265205",
                                    "2": "Anonymous, Ronald A. Beers, Ronald A. Beers",
                                    "3": "Life Application Study Bible: NIV"
                                },
                                {
                                    "0": "4.67",
                                    "1": "9329354",
                                    "2": "Brandon Sanderson",
                                    "3": "The Way of Kings, Part 1 (The Stormlight Archive #1.1)"
                                },
                                {
                                    "0": "4.66",
                                    "1": "99298",
                                    "2": "J.K. Rowling, Mary GrandPré",
                                    "3": "The Harry Potter Collection 1-4 (Harry Potter, #1-4)"
                                },
                                {
                                    "0": "4.66",
                                    "1": "5883777",
                                    "2": "Anonymous",
                                    "3": "The Holy Bible: English Standard Version"
                                },
                                {
                                    "0": "4.66",
                                    "1": "24494",
                                    "2": "Bill Watterson",
                                    "3": "The Calvin and Hobbes Lazy Sunday Book"
                                },
                                {
                                    "0": "4.65",
                                    "1": "43070",
                                    "2": "Bill Watterson",
                                    "3": "The Essential Calvin and Hobbes: A Calvin and Hobbes Treasury"
                                },
                                {
                                    "0": "4.65",
                                    "1": "18337259",
                                    "2": "Daniel Abraham, George R.R. Martin, Tommy Patterson",
                                    "3": "A Game of Thrones: Comic Book, Issue 1"
                                },
                                {
                                    "0": "4.65",
                                    "1": "23753",
                                    "2": "Neil Gaiman, Mike Dringenberg, Chris Bachalo, Michael Zulli, Kelly Jones, Charles Vess, Colleen Doran, Malcolm Jones III, Steve Parkhouse, Daniel Vozzo, Lee Loughridge, Steve Oliff, Todd Klein, Dave McKean, Sam Kieth",
                                    "3": "The Absolute Sandman, Volume One"
                                },
                                {
                                    "0": "4.64",
                                    "1": "7235533",
                                    "2": "Brandon Sanderson",
                                    "3": "The Way of Kings (The Stormlight Archive, #1)"
                                },
                                {
                                    "0": "4.63",
                                    "1": "24813",
                                    "2": "Bill Watterson",
                                    "3": "The Calvin and Hobbes Tenth Anniversary Book"
                                },
                                {
                                    "0": "4.63",
                                    "1": "9814682",
                                    "2": "George R.R. Martin",
                                    "3": "A Song of Ice and Fire (A Song of Ice and Fire, #1-4)"
                                },
                                {
                                    "0": "4.63",
                                    "1": "12177850",
                                    "2": "George R.R. Martin",
                                    "3": "A Song of Ice and Fire (A Song of Ice and Fire, #1-5)"
                                },
                                {
                                    "0": "4.63",
                                    "1": "481749",
                                    "2": "James E. Talmage",
                                    "3": "Jesus the Christ"
                                },
                                {
                                    "0": "4.63",
                                    "1": "46292",
                                    "2": "Hafez",
                                    "3": "The Divan"
                                },
                                {
                                    "0": "4.63",
                                    "1": "6801614",
                                    "2": "Eiichirō Oda",
                                    "3": "One Piece, Volume 38: Rocketman!! (One Piece, #38)"
                                },
                                {
                                    "0": "4.62",
                                    "1": "22299763",
                                    "2": "Leigh Bardugo",
                                    "3": "Crooked Kingdom (Six of Crows, #2)"
                                },
                                {
                                    "0": "4.62",
                                    "1": "32075671",
                                    "2": "Angie Thomas",
                                    "3": "The Hate U Give"
                                },
                                {
                                    "0": "4.61",
                                    "1": "136251",
                                    "2": "J.K. Rowling, Mary GrandPré",
                                    "3": "Harry Potter and the Deathly Hallows (Harry Potter, #7)"
                                },
                                {
                                    "0": "4.61",
                                    "1": "77727",
                                    "2": "Bill Watterson, G.B. Trudeau",
                                    "3": "Calvin and Hobbes"
                                },
                                {
                                    "0": "4.61",
                                    "1": "280111",
                                    "2": "Anonymous",
                                    "3": "Holy Bible: New International Version"
                                },
                                {
                                    "0": "4.61",
                                    "1": "2223324",
                                    "2": "John   Williams",
                                    "3": "Harry Potter and the Chamber of Secrets: Sheet Music for Flute with C.D"
                                },
                                {
                                    "0": "4.61",
                                    "1": "6339989",
                                    "2": "Richelle Mead",
                                    "3": "Vampire Academy Collection (Vampire Academy, #1-3)"
                                },
                                {
                                    "0": "4.61",
                                    "1": "596259",
                                    "2": "Gordon B. Hinckley",
                                    "3": "Standing for Something: 10 Neglected Virtues That Will Heal Our Hearts and Homes"
                                },
                                {
                                    "0": "4.61",
                                    "1": "47697",
                                    "2": "Alisa Kwitney, Neil Gaiman",
                                    "3": "The Sandman: King of Dreams"
                                },
                                {
                                    "0": "4.6",
                                    "1": "18006496",
                                    "2": "Sarah J. Maas",
                                    "3": "Queen of Shadows (Throne of Glass, #4)"
                                },
                                {
                                    "0": "4.6",
                                    "1": "95617",
                                    "2": "Francine Rivers, Richard Ferrone",
                                    "3": "A Voice in the Wind (Mark of the Lion, #1)"
                                },
                                {
                                    "0": "4.6",
                                    "1": "46601",
                                    "2": "Francine Rivers",
                                    "3": "An Echo in the Darkness (Mark of the Lion, #2)"
                                },
                                {
                                    "0": "4.6",
                                    "1": "7025086",
                                    "2": "Christopher Yost, Pasqual Ferry, Orson Scott Card",
                                    "3": "Ender's Game, Volume 2: Command School"
                                },
                                {
                                    "0": "4.59",
                                    "1": "18335634",
                                    "2": "Cassandra Clare",
                                    "3": "Clockwork Princess (The Infernal Devices, #3)"
                                },
                                {
                                    "0": "4.59",
                                    "1": "30",
                                    "2": "J.R.R. Tolkien",
                                    "3": "J.R.R. Tolkien 4-Book Boxed Set: The Hobbit and The Lord of the Rings"
                                },
                                {
                                    "0": "4.59",
                                    "1": "2299110",
                                    "2": "Sherrilyn Kenyon",
                                    "3": "Acheron (Dark-Hunter #14)"
                                },
                                {
                                    "0": "4.59",
                                    "1": "119",
                                    "2": "Gary Russell",
                                    "3": "The Lord of the Rings: The Art of The Fellowship of the Ring"
                                },
                                {
                                    "0": "4.59",
                                    "1": "71252",
                                    "2": "Neil Gaiman, Marc Hempel, Richard Case, D'Israeli, Teddy Kristiansen, Glyn Dillon, Charles Vess, Dean Ormston, Kevin Nowlan, Todd Klein, Frank McConnell",
                                    "3": "The Kindly Ones (The Sandman #9)"
                                },
                                {
                                    "0": "4.59",
                                    "1": "349254",
                                    "2": "Jude Fisher",
                                    "3": "The Lord of the Rings: The Return of the King: Visual Companion"
                                },
                                {
                                    "0": "4.59",
                                    "1": "9832370",
                                    "2": "BookRags",
                                    "3": "BookRags Summary:  A Storm of Swords"
                                },
                                {
                                    "0": "4.59",
                                    "1": "11106458",
                                    "2": "Cassandra Clare",
                                    "3": "The Mortal Instruments (The Mortal Instruments #1-4)"
                                },
                                {
                                    "0": "4.59",
                                    "1": "14367051",
                                    "2": "Cassandra Clare",
                                    "3": "City of Bones / City of Ashes / City of Glass / City of Fallen Angels / City of Lost Souls (The Mortal Instruments, #1-5)"
                                },
                                {
                                    "0": "4.58",
                                    "1": "28260587",
                                    "2": "Sarah J. Maas",
                                    "3": "Empire of Storms (Throne of Glass, #5)"
                                },
                                {
                                    "0": "4.58",
                                    "1": "3165162",
                                    "2": "Rick Riordan",
                                    "3": "Percy Jackson and the Olympians (Percy Jackson and the Olympians, #1-3)"
                                },
                                {
                                    "0": "4.58",
                                    "1": "20342617",
                                    "2": "Bryan Stevenson",
                                    "3": "Just Mercy: A Story of Justice and Redemption"
                                },
                                {
                                    "0": "4.58",
                                    "1": "17961",
                                    "2": "Jorge Luis Borges, Andrew Hurley",
                                    "3": "Collected Fictions"
                                },
                                {
                                    "0": "4.58",
                                    "1": "4808763",
                                    "2": "Isaac Asimov, Bob E. Flick, Jim Gallant",
                                    "3": "The Last Question"
                                },
                                {
                                    "0": "4.58",
                                    "1": "15767586",
                                    "2": "Sherrilyn Kenyon",
                                    "3": "Styxx (Dark-Hunter, #22)"
                                },
                                {
                                    "0": "4.58",
                                    "1": "892295",
                                    "2": "Arthur Conan Doyle, William S. Baring-Gould",
                                    "3": "The Annotated Sherlock Holmes: The Four Novels and the Fifty-Six Short Stories Complete (2 Volume Set)"
                                },
                                {
                                    "0": "4.57",
                                    "1": "1215032",
                                    "2": "Patrick Rothfuss",
                                    "3": "The Wise Man's Fear (The Kingkiller Chronicle, #2)"
                                },
                                {
                                    "0": "4.57",
                                    "1": "6485421",
                                    "2": "Cassandra Clare",
                                    "3": "The Mortal Instruments Boxed Set: City of Bones; City of Ashes; City of Glass (The Mortal Instruments, #1-3)"
                                },
                                {
                                    "0": "4.57",
                                    "1": "17131869",
                                    "2": "Brian K. Vaughan, Fiona Staples",
                                    "3": "Saga, Vol. 2 (Saga, #2)"
                                },
                                {
                                    "0": "4.57",
                                    "1": "8718952",
                                    "2": "Richelle Mead",
                                    "3": "Vampire Academy Box Set (Vampire Academy, #1-4)"
                                },
                                {
                                    "0": "4.57",
                                    "1": "4634266",
                                    "2": "Masashi Kishimoto",
                                    "3": "NARUTO -ナルト- 巻ノ四十三"
                                },
                                {
                                    "0": "4.57",
                                    "1": "6443349",
                                    "2": "Rick Riordan, Tk",
                                    "3": "Percy Jackson and the Olympians Boxed Set (Percy Jackson and the Olympians, #1-5)"
                                },
                                {
                                    "0": "4.57",
                                    "1": "545425",
                                    "2": "Safiy al-Rahman al-Mubarakfuri",
                                    "3": "الرحيق المختوم"
                                },
                                {
                                    "0": "4.57",
                                    "1": "17333174",
                                    "2": "Ilona Andrews",
                                    "3": "Magic Binds (Kate Daniels, #9)"
                                },
                                {
                                    "0": "4.56",
                                    "1": "147915",
                                    "2": "George R.R. Martin",
                                    "3": "A Storm of Swords: Blood and Gold (A Song of Ice and Fire, #3: Part 2 of 2)"
                                },
                                {
                                    "0": "4.56",
                                    "1": "19358975",
                                    "2": "Brian K. Vaughan, Fiona Staples",
                                    "3": "Saga, Vol. 3 (Saga, #3)"
                                },
                                {
                                    "0": "4.56",
                                    "1": "10785687",
                                    "2": "Bob McCabe",
                                    "3": "Harry Potter Page to Screen: The Complete Filmmaking Journey"
                                },
                                {
                                    "0": "4.56",
                                    "1": "17880714",
                                    "2": "K. Bromberg",
                                    "3": "Crashed (Driven, #3)"
                                },
                                {
                                    "0": "4.56",
                                    "1": "1317181",
                                    "2": "J.K. Rowling",
                                    "3": "Harry Potter and the Order of the Phoenix (Harry Potter, #5, Part 1)"
                                },
                                {
                                    "0": "4.56",
                                    "1": "15743078",
                                    "2": "Veronica Roth",
                                    "3": "The Divergent Series 2-Book Collection (Divergent, #1-2)"
                                },
                                {
                                    "0": "4.56",
                                    "1": "29236299",
                                    "2": "Amie Kaufman, Jay Kristoff, Marie Lu",
                                    "3": "Gemina (The Illuminae Files, #2)"
                                },
                                {
                                    "0": "4.55",
                                    "1": "186074",
                                    "2": "Patrick Rothfuss",
                                    "3": "The Name of the Wind (The Kingkiller Chronicle, #1)"
                                },
                                {
                                    "0": "4.55",
                                    "1": "19486421",
                                    "2": "Jim Butcher",
                                    "3": "Skin Game (The Dresden Files, #15)"
                                },
                                {
                                    "0": "4.55",
                                    "1": "6604209",
                                    "2": "Brandon Sanderson",
                                    "3": "Mistborn Trilogy Boxed Set (Mistborn, #1-3)"
                                },
                                {
                                    "0": "4.55",
                                    "1": "25105",
                                    "2": "Neil Gaiman, Jill Thompson, Vince Locke, Peter Straub",
                                    "3": "Brief Lives (The Sandman #7)"
                                },
                                {
                                    "0": "4.55",
                                    "1": "8346300",
                                    "2": "Andrew Williamson, Andrew Williamson",
                                    "3": "Harry Potter: A Pop-Up Book: Based on the Film Phenomenon"
                                },
                                {
                                    "0": "4.55",
                                    "1": "14905",
                                    "2": "Jane Austen",
                                    "3": "The Complete Novels"
                                },
                                {
                                    "0": "4.55",
                                    "1": "13184992",
                                    "2": "Kristen Ashley",
                                    "3": "Rock Chick Regret (Rock Chick, #7)"
                                },
                                {
                                    "0": "4.55",
                                    "1": "71823",
                                    "2": "Stephen King",
                                    "3": "The Green Mile, Part 6: Coffey on the Mile"
                                },
                                {
                                    "0": "4.54",
                                    "1": "1",
                                    "2": "J.K. Rowling, Mary GrandPré",
                                    "3": "Harry Potter and the Half-Blood Prince (Harry Potter, #6)"
                                },
                                {
                                    "0": "4.54",
                                    "1": "62291",
                                    "2": "George R.R. Martin",
                                    "3": "A Storm of Swords (A Song of Ice and Fire, #3)"
                                },
                                {
                                    "0": "4.54",
                                    "1": "21853621",
                                    "2": "Kristin Hannah",
                                    "3": "The Nightingale"
                                },
                                {
                                    "0": "4.54",
                                    "1": "12127810",
                                    "2": "Rick Riordan",
                                    "3": "The House of Hades (The Heroes of Olympus, #4)"
                                },
                                {
                                    "0": "4.54",
                                    "1": "6585201",
                                    "2": "Jim Butcher",
                                    "3": "Changes (The Dresden Files, #12)"
                                },
                                {
                                    "0": "4.54",
                                    "1": "381421",
                                    "2": "Sarah  Young",
                                    "3": "Jesus Calling: Enjoying Peace in His Presence"
                                },
                                {
                                    "0": "4.54",
                                    "1": "25101",
                                    "2": "Neil Gaiman, Matt Wagner, George Pratt, Dick Giordano, Kelley Jones, P. Craig Russell, Mike Dringenberg, Malcolm Jones III, Todd Klein, Harlan Ellison",
                                    "3": "Season of Mists (The Sandman #4)"
                                },
                                {
                                    "0": "4.54",
                                    "1": "89959",
                                    "2": "Founding Fathers",
                                    "3": "The Constitution of the United States of America"
                                },
                                {
                                    "0": "4.54",
                                    "1": "23766634",
                                    "2": "Sarah J. Maas",
                                    "3": "A Court of Wings and Ruin (A Court of Thorns and Roses, #3)"
                                },
                                {
                                    "0": "4.54",
                                    "1": "20706320",
                                    "2": "Chris Colfer, Brandon Dorman",
                                    "3": "A Grimm Warning (The Land of Stories, #3)"
                                },
                                {
                                    "0": "4.54",
                                    "1": "8163161",
                                    "2": "Bisco Hatori",
                                    "3": "Ouran High School Host Club, Vol. 15 (Ouran High School Host Club, #15)"
                                },
                                {
                                    "0": "4.53",
                                    "1": "5",
                                    "2": "J.K. Rowling, Mary GrandPré, Rufus Beck",
                                    "3": "Harry Potter and the Prisoner of Azkaban (Harry Potter, #3)"
                                },
                                {
                                    "0": "4.53",
                                    "1": "6",
                                    "2": "J.K. Rowling, Mary GrandPré",
                                    "3": "Harry Potter and the Goblet of Fire (Harry Potter, #4)"
                                },
                                {
                                    "0": "4.53",
                                    "1": "20613470",
                                    "2": "Sarah J. Maas",
                                    "3": "Heir of Fire (Throne of Glass, #3)"
                                },
                                {
                                    "0": "4.53",
                                    "1": "15195",
                                    "2": "Art Spiegelman",
                                    "3": "The Complete Maus (Maus, #1-2)"
                                },
                                {
                                    "0": "4.53",
                                    "1": "25104",
                                    "2": "Neil Gaiman, Michael Zulli, Jon J. Muth, Charles Vess, Mikal Gilmore",
                                    "3": "The Wake (The Sandman #10)"
                                }
                            ]
                        },
                        "text/html": [
                            "<table>",
                            "<tr><th>rating</th><th>book_id</th><th>authors</th><th>title</th></tr>",
                            "<tr><td>4.82</td><td>24812</td><td>Bill Watterson</td><td>The Complete Calvin and Hobbes</td></tr>",
                            "<tr><td>4.77</td><td>17332218</td><td>Brandon Sanderson</td><td>Words of Radiance (The Stormlight Archive, #2)</td></tr>",
                            "<tr><td>4.77</td><td>8</td><td>J.K. Rowling, Mary GrandPré</td><td>Harry Potter Boxed Set, Books 1-5 (Harry Potter, #1-5)</td></tr>",
                            "<tr><td>4.76</td><td>5031805</td><td>Anonymous, Lane T. Dennis, Wayne A. Grudem</td><td>ESV Study Bible</td></tr>",
                            "<tr><td>4.76</td><td>95602</td><td>Francine Rivers</td><td>Mark of the Lion Trilogy</td></tr>",
                            "<tr><td>4.75</td><td>24814</td><td>Bill Watterson</td><td>It's a Magical World: A Calvin and Hobbes Collection</td></tr>",
                            "<tr><td>4.74</td><td>862041</td><td>J.K. Rowling</td><td>Harry Potter Boxset (Harry Potter, #1-7)</td></tr>",
                            "<tr><td>4.74</td><td>70489</td><td>Bill Watterson</td><td>There's Treasure Everywhere: A Calvin and Hobbes Collection</td></tr>",
                            "<tr><td>4.73</td><td>10</td><td>J.K. Rowling</td><td>Harry Potter Collection (Harry Potter, #1-6)</td></tr>",
                            "<tr><td>4.73</td><td>59715</td><td>Bill Watterson</td><td>The Authoritative Calvin and Hobbes: A Calvin and Hobbes Treasury</td></tr>",
                            "<tr><td>4.73</td><td>24815</td><td>Bill Watterson</td><td>The Indispensable Calvin and Hobbes</td></tr>",
                            "<tr><td>4.72</td><td>17927395</td><td>Sarah J. Maas</td><td>A Court of Mist and Fury (A Court of Thorns and Roses, #2)</td></tr>",
                            "<tr><td>4.72</td><td>70487</td><td>Bill Watterson</td><td>Attack of the Deranged Mutant Killer Monster Snow Goons</td></tr>",
                            "<tr><td>4.71</td><td>24816</td><td>Bill Watterson</td><td>Homicidal Psycho Jungle Cat: A Calvin and Hobbes Collection</td></tr>",
                            "<tr><td>4.71</td><td>121792</td><td>Bill Watterson</td><td>The Revenge of the Baby-Sat</td></tr>",
                            "<tr><td>4.71</td><td>2350129</td><td>The Church of Jesus Christ of Latter-day Saints</td><td>Preach My Gospel: A Guide To Missionary Service</td></tr>",
                            "<tr><td>4.68</td><td>24818</td><td>Bill Watterson</td><td>The Days Are Just Packed: A Calvin and Hobbes Collection</td></tr>",
                            "<tr><td>4.67</td><td>265205</td><td>Anonymous, Ronald A. Beers, Ronald A. Beers</td><td>Life Application Study Bible: NIV</td></tr>",
                            "<tr><td>4.67</td><td>9329354</td><td>Brandon Sanderson</td><td>The Way of Kings, Part 1 (The Stormlight Archive #1.1)</td></tr>",
                            "<tr><td>4.66</td><td>99298</td><td>J.K. Rowling, Mary GrandPré</td><td>The Harry Potter Collection 1-4 (Harry Potter, #1-4)</td></tr>",
                            "<tr><td>4.66</td><td>5883777</td><td>Anonymous</td><td>The Holy Bible: English Standard Version</td></tr>",
                            "<tr><td>4.66</td><td>24494</td><td>Bill Watterson</td><td>The Calvin and Hobbes Lazy Sunday Book</td></tr>",
                            "<tr><td>4.65</td><td>43070</td><td>Bill Watterson</td><td>The Essential Calvin and Hobbes: A Calvin and Hobbes Treasury</td></tr>",
                            "<tr><td>4.65</td><td>18337259</td><td>Daniel Abraham, George R.R. Martin, Tommy Patterson</td><td>A Game of Thrones: Comic Book, Issue 1</td></tr>",
                            "<tr><td>4.65</td><td>23753</td><td>Neil Gaiman, Mike Dringenberg, Chris Bachalo, Michael Zulli, Kelly Jones, Charles Vess, Colleen Doran, Malcolm Jones III, Steve Parkhouse, Daniel Vozzo, Lee Loughridge, Steve Oliff, Todd Klein, Dave McKean, Sam Kieth</td><td>The Absolute Sandman, Volume One</td></tr>",
                            "<tr><td>4.64</td><td>7235533</td><td>Brandon Sanderson</td><td>The Way of Kings (The Stormlight Archive, #1)</td></tr>",
                            "<tr><td>4.63</td><td>24813</td><td>Bill Watterson</td><td>The Calvin and Hobbes Tenth Anniversary Book</td></tr>",
                            "<tr><td>4.63</td><td>9814682</td><td>George R.R. Martin</td><td>A Song of Ice and Fire (A Song of Ice and Fire, #1-4)</td></tr>",
                            "<tr><td>4.63</td><td>12177850</td><td>George R.R. Martin</td><td>A Song of Ice and Fire (A Song of Ice and Fire, #1-5)</td></tr>",
                            "<tr><td>4.63</td><td>481749</td><td>James E. Talmage</td><td>Jesus the Christ</td></tr>",
                            "<tr><td>4.63</td><td>46292</td><td>Hafez</td><td>The Divan</td></tr>",
                            "<tr><td>4.63</td><td>6801614</td><td>Eiichirō Oda</td><td>One Piece, Volume 38: Rocketman!! (One Piece, #38)</td></tr>",
                            "<tr><td>4.62</td><td>22299763</td><td>Leigh Bardugo</td><td>Crooked Kingdom (Six of Crows, #2)</td></tr>",
                            "<tr><td>4.62</td><td>32075671</td><td>Angie Thomas</td><td>The Hate U Give</td></tr>",
                            "<tr><td>4.61</td><td>136251</td><td>J.K. Rowling, Mary GrandPré</td><td>Harry Potter and the Deathly Hallows (Harry Potter, #7)</td></tr>",
                            "<tr><td>4.61</td><td>77727</td><td>Bill Watterson, G.B. Trudeau</td><td>Calvin and Hobbes</td></tr>",
                            "<tr><td>4.61</td><td>280111</td><td>Anonymous</td><td>Holy Bible: New International Version</td></tr>",
                            "<tr><td>4.61</td><td>2223324</td><td>John   Williams</td><td>Harry Potter and the Chamber of Secrets: Sheet Music for Flute with C.D</td></tr>",
                            "<tr><td>4.61</td><td>6339989</td><td>Richelle Mead</td><td>Vampire Academy Collection (Vampire Academy, #1-3)</td></tr>",
                            "<tr><td>4.61</td><td>596259</td><td>Gordon B. Hinckley</td><td>Standing for Something: 10 Neglected Virtues That Will Heal Our Hearts and Homes</td></tr>",
                            "<tr><td>4.61</td><td>47697</td><td>Alisa Kwitney, Neil Gaiman</td><td>The Sandman: King of Dreams</td></tr>",
                            "<tr><td>4.6</td><td>18006496</td><td>Sarah J. Maas</td><td>Queen of Shadows (Throne of Glass, #4)</td></tr>",
                            "<tr><td>4.6</td><td>95617</td><td>Francine Rivers, Richard Ferrone</td><td>A Voice in the Wind (Mark of the Lion, #1)</td></tr>",
                            "<tr><td>4.6</td><td>46601</td><td>Francine Rivers</td><td>An Echo in the Darkness (Mark of the Lion, #2)</td></tr>",
                            "<tr><td>4.6</td><td>7025086</td><td>Christopher Yost, Pasqual Ferry, Orson Scott Card</td><td>Ender's Game, Volume 2: Command School</td></tr>",
                            "<tr><td>4.59</td><td>18335634</td><td>Cassandra Clare</td><td>Clockwork Princess (The Infernal Devices, #3)</td></tr>",
                            "<tr><td>4.59</td><td>30</td><td>J.R.R. Tolkien</td><td>J.R.R. Tolkien 4-Book Boxed Set: The Hobbit and The Lord of the Rings</td></tr>",
                            "<tr><td>4.59</td><td>2299110</td><td>Sherrilyn Kenyon</td><td>Acheron (Dark-Hunter #14)</td></tr>",
                            "<tr><td>4.59</td><td>119</td><td>Gary Russell</td><td>The Lord of the Rings: The Art of The Fellowship of the Ring</td></tr>",
                            "<tr><td>4.59</td><td>71252</td><td>Neil Gaiman, Marc Hempel, Richard Case, D'Israeli, Teddy Kristiansen, Glyn Dillon, Charles Vess, Dean Ormston, Kevin Nowlan, Todd Klein, Frank McConnell</td><td>The Kindly Ones (The Sandman #9)</td></tr>",
                            "<tr><td>4.59</td><td>349254</td><td>Jude Fisher</td><td>The Lord of the Rings: The Return of the King: Visual Companion</td></tr>",
                            "<tr><td>4.59</td><td>9832370</td><td>BookRags</td><td>BookRags Summary:  A Storm of Swords</td></tr>",
                            "<tr><td>4.59</td><td>11106458</td><td>Cassandra Clare</td><td>The Mortal Instruments (The Mortal Instruments #1-4)</td></tr>",
                            "<tr><td>4.59</td><td>14367051</td><td>Cassandra Clare</td><td>City of Bones / City of Ashes / City of Glass / City of Fallen Angels / City of Lost Souls (The Mortal Instruments, #1-5)</td></tr>",
                            "<tr><td>4.58</td><td>28260587</td><td>Sarah J. Maas</td><td>Empire of Storms (Throne of Glass, #5)</td></tr>",
                            "<tr><td>4.58</td><td>3165162</td><td>Rick Riordan</td><td>Percy Jackson and the Olympians (Percy Jackson and the Olympians, #1-3)</td></tr>",
                            "<tr><td>4.58</td><td>20342617</td><td>Bryan Stevenson</td><td>Just Mercy: A Story of Justice and Redemption</td></tr>",
                            "<tr><td>4.58</td><td>17961</td><td>Jorge Luis Borges, Andrew Hurley</td><td>Collected Fictions</td></tr>",
                            "<tr><td>4.58</td><td>4808763</td><td>Isaac Asimov, Bob E. Flick, Jim Gallant</td><td>The Last Question</td></tr>",
                            "<tr><td>4.58</td><td>15767586</td><td>Sherrilyn Kenyon</td><td>Styxx (Dark-Hunter, #22)</td></tr>",
                            "<tr><td>4.58</td><td>892295</td><td>Arthur Conan Doyle, William S. Baring-Gould</td><td>The Annotated Sherlock Holmes: The Four Novels and the Fifty-Six Short Stories Complete (2 Volume Set)</td></tr>",
                            "<tr><td>4.57</td><td>1215032</td><td>Patrick Rothfuss</td><td>The Wise Man's Fear (The Kingkiller Chronicle, #2)</td></tr>",
                            "<tr><td>4.57</td><td>6485421</td><td>Cassandra Clare</td><td>The Mortal Instruments Boxed Set: City of Bones; City of Ashes; City of Glass (The Mortal Instruments, #1-3)</td></tr>",
                            "<tr><td>4.57</td><td>17131869</td><td>Brian K. Vaughan, Fiona Staples</td><td>Saga, Vol. 2 (Saga, #2)</td></tr>",
                            "<tr><td>4.57</td><td>8718952</td><td>Richelle Mead</td><td>Vampire Academy Box Set (Vampire Academy, #1-4)</td></tr>",
                            "<tr><td>4.57</td><td>4634266</td><td>Masashi Kishimoto</td><td>NARUTO -ナルト- 巻ノ四十三</td></tr>",
                            "<tr><td>4.57</td><td>6443349</td><td>Rick Riordan, Tk</td><td>Percy Jackson and the Olympians Boxed Set (Percy Jackson and the Olympians, #1-5)</td></tr>",
                            "<tr><td>4.57</td><td>545425</td><td>Safiy al-Rahman al-Mubarakfuri</td><td>الرحيق المختوم</td></tr>",
                            "<tr><td>4.57</td><td>17333174</td><td>Ilona Andrews</td><td>Magic Binds (Kate Daniels, #9)</td></tr>",
                            "<tr><td>4.56</td><td>147915</td><td>George R.R. Martin</td><td>A Storm of Swords: Blood and Gold (A Song of Ice and Fire, #3: Part 2 of 2)</td></tr>",
                            "<tr><td>4.56</td><td>19358975</td><td>Brian K. Vaughan, Fiona Staples</td><td>Saga, Vol. 3 (Saga, #3)</td></tr>",
                            "<tr><td>4.56</td><td>10785687</td><td>Bob McCabe</td><td>Harry Potter Page to Screen: The Complete Filmmaking Journey</td></tr>",
                            "<tr><td>4.56</td><td>17880714</td><td>K. Bromberg</td><td>Crashed (Driven, #3)</td></tr>",
                            "<tr><td>4.56</td><td>1317181</td><td>J.K. Rowling</td><td>Harry Potter and the Order of the Phoenix (Harry Potter, #5, Part 1)</td></tr>",
                            "<tr><td>4.56</td><td>15743078</td><td>Veronica Roth</td><td>The Divergent Series 2-Book Collection (Divergent, #1-2)</td></tr>",
                            "<tr><td>4.56</td><td>29236299</td><td>Amie Kaufman, Jay Kristoff, Marie Lu</td><td>Gemina (The Illuminae Files, #2)</td></tr>",
                            "<tr><td>4.55</td><td>186074</td><td>Patrick Rothfuss</td><td>The Name of the Wind (The Kingkiller Chronicle, #1)</td></tr>",
                            "<tr><td>4.55</td><td>19486421</td><td>Jim Butcher</td><td>Skin Game (The Dresden Files, #15)</td></tr>",
                            "<tr><td>4.55</td><td>6604209</td><td>Brandon Sanderson</td><td>Mistborn Trilogy Boxed Set (Mistborn, #1-3)</td></tr>",
                            "<tr><td>4.55</td><td>25105</td><td>Neil Gaiman, Jill Thompson, Vince Locke, Peter Straub</td><td>Brief Lives (The Sandman #7)</td></tr>",
                            "<tr><td>4.55</td><td>8346300</td><td>Andrew Williamson, Andrew Williamson</td><td>Harry Potter: A Pop-Up Book: Based on the Film Phenomenon</td></tr>",
                            "<tr><td>4.55</td><td>14905</td><td>Jane Austen</td><td>The Complete Novels</td></tr>",
                            "<tr><td>4.55</td><td>13184992</td><td>Kristen Ashley</td><td>Rock Chick Regret (Rock Chick, #7)</td></tr>",
                            "<tr><td>4.55</td><td>71823</td><td>Stephen King</td><td>The Green Mile, Part 6: Coffey on the Mile</td></tr>",
                            "<tr><td>4.54</td><td>1</td><td>J.K. Rowling, Mary GrandPré</td><td>Harry Potter and the Half-Blood Prince (Harry Potter, #6)</td></tr>",
                            "<tr><td>4.54</td><td>62291</td><td>George R.R. Martin</td><td>A Storm of Swords (A Song of Ice and Fire, #3)</td></tr>",
                            "<tr><td>4.54</td><td>21853621</td><td>Kristin Hannah</td><td>The Nightingale</td></tr>",
                            "<tr><td>4.54</td><td>12127810</td><td>Rick Riordan</td><td>The House of Hades (The Heroes of Olympus, #4)</td></tr>",
                            "<tr><td>4.54</td><td>6585201</td><td>Jim Butcher</td><td>Changes (The Dresden Files, #12)</td></tr>",
                            "<tr><td>4.54</td><td>381421</td><td>Sarah  Young</td><td>Jesus Calling: Enjoying Peace in His Presence</td></tr>",
                            "<tr><td>4.54</td><td>25101</td><td>Neil Gaiman, Matt Wagner, George Pratt, Dick Giordano, Kelley Jones, P. Craig Russell, Mike Dringenberg, Malcolm Jones III, Todd Klein, Harlan Ellison</td><td>Season of Mists (The Sandman #4)</td></tr>",
                            "<tr><td>4.54</td><td>89959</td><td>Founding Fathers</td><td>The Constitution of the United States of America</td></tr>",
                            "<tr><td>4.54</td><td>23766634</td><td>Sarah J. Maas</td><td>A Court of Wings and Ruin (A Court of Thorns and Roses, #3)</td></tr>",
                            "<tr><td>4.54</td><td>20706320</td><td>Chris Colfer, Brandon Dorman</td><td>A Grimm Warning (The Land of Stories, #3)</td></tr>",
                            "<tr><td>4.54</td><td>8163161</td><td>Bisco Hatori</td><td>Ouran High School Host Club, Vol. 15 (Ouran High School Host Club, #15)</td></tr>",
                            "<tr><td>4.53</td><td>5</td><td>J.K. Rowling, Mary GrandPré, Rufus Beck</td><td>Harry Potter and the Prisoner of Azkaban (Harry Potter, #3)</td></tr>",
                            "<tr><td>4.53</td><td>6</td><td>J.K. Rowling, Mary GrandPré</td><td>Harry Potter and the Goblet of Fire (Harry Potter, #4)</td></tr>",
                            "<tr><td>4.53</td><td>20613470</td><td>Sarah J. Maas</td><td>Heir of Fire (Throne of Glass, #3)</td></tr>",
                            "<tr><td>4.53</td><td>15195</td><td>Art Spiegelman</td><td>The Complete Maus (Maus, #1-2)</td></tr>",
                            "<tr><td>4.53</td><td>25104</td><td>Neil Gaiman, Michael Zulli, Jon J. Muth, Charles Vess, Mikal Gilmore</td><td>The Wake (The Sandman #10)</td></tr>",
                            "</table>"
                        ]
                    }
                }
            ],
            "execution_count": 17
        },
        {
            "cell_type": "markdown",
            "source": [
                "Question 2: Write a query to find the least popular book."
            ],
            "metadata": {
                "azdata_cell_guid": "777429b8-8622-489d-9c49-e2acecd7f17e"
            },
            "attachments": {}
        },
        {
            "cell_type": "code",
            "source": [
                "-- return least popular book\n",
                "SELECT TOP 1 title FROM BooksDB.dbo.books ORDER BY average_rating DESC;"
            ],
            "metadata": {
                "azdata_cell_guid": "c78a1779-db74-470f-a60a-7c72a43d774b",
                "language": "sql"
            },
            "outputs": [
                {
                    "output_type": "display_data",
                    "data": {
                        "text/html": "(1 row affected)"
                    },
                    "metadata": {}
                },
                {
                    "output_type": "display_data",
                    "data": {
                        "text/html": "Total execution time: 00:00:00.070"
                    },
                    "metadata": {}
                },
                {
                    "output_type": "execute_result",
                    "metadata": {},
                    "execution_count": 12,
                    "data": {
                        "application/vnd.dataresource+json": {
                            "schema": {
                                "fields": [
                                    {
                                        "name": "title"
                                    }
                                ]
                            },
                            "data": [
                                {
                                    "0": "The Complete Calvin and Hobbes"
                                }
                            ]
                        },
                        "text/html": [
                            "<table>",
                            "<tr><th>title</th></tr>",
                            "<tr><td>The Complete Calvin and Hobbes</td></tr>",
                            "</table>"
                        ]
                    }
                }
            ],
            "execution_count": 12
        },
        {
            "cell_type": "markdown",
            "source": [
                "Question 3: Which tag is the most popular?"
            ],
            "metadata": {
                "azdata_cell_guid": "a370909d-5d64-49e2-8fec-5220730c8ca7"
            },
            "attachments": {}
        },
        {
            "cell_type": "code",
            "source": [
                "-- return most popular tag\n",
                "SELECT TOP 1*\n",
                "FROM BooksDB.dbo.book_tags\n",
                "ORDER BY [count] DESC;"
            ],
            "metadata": {
                "azdata_cell_guid": "9e0451dc-c4d3-4775-9eb1-904854f459ff",
                "tags": [],
                "language": "sql"
            },
            "outputs": [
                {
                    "output_type": "display_data",
                    "data": {
                        "text/html": "(1 row affected)"
                    },
                    "metadata": {}
                },
                {
                    "output_type": "display_data",
                    "data": {
                        "text/html": "Total execution time: 00:00:00.365"
                    },
                    "metadata": {}
                },
                {
                    "output_type": "execute_result",
                    "metadata": {},
                    "execution_count": 27,
                    "data": {
                        "application/vnd.dataresource+json": {
                            "schema": {
                                "fields": [
                                    {
                                        "name": "goodreads_book_id"
                                    },
                                    {
                                        "name": "tag_id"
                                    },
                                    {
                                        "name": "count"
                                    }
                                ]
                            },
                            "data": [
                                {
                                    "0": "865",
                                    "1": "30574",
                                    "2": "596234"
                                }
                            ]
                        },
                        "text/html": [
                            "<table>",
                            "<tr><th>goodreads_book_id</th><th>tag_id</th><th>count</th></tr>",
                            "<tr><td>865</td><td>30574</td><td>596234</td></tr>",
                            "</table>"
                        ]
                    }
                }
            ],
            "execution_count": 27
        },
        {
            "cell_type": "markdown",
            "source": [
                "Question 4: What is the name of the most popular tag?"
            ],
            "metadata": {
                "azdata_cell_guid": "3cdfa7e6-c5a6-49fb-aa27-afeece881627"
            },
            "attachments": {}
        },
        {
            "cell_type": "code",
            "source": [
                "-- return name of most popular tag\n",
                "SELECT *\n",
                "FROM BooksDB.dbo.tags WHERE tag_id=30574;"
            ],
            "metadata": {
                "azdata_cell_guid": "3cd3a3ec-4ce2-49b6-b714-44179eed00e1",
                "language": "sql"
            },
            "outputs": [
                {
                    "output_type": "display_data",
                    "data": {
                        "text/html": "(1 row affected)"
                    },
                    "metadata": {}
                },
                {
                    "output_type": "display_data",
                    "data": {
                        "text/html": "Total execution time: 00:00:00.062"
                    },
                    "metadata": {}
                },
                {
                    "output_type": "execute_result",
                    "metadata": {},
                    "execution_count": 32,
                    "data": {
                        "application/vnd.dataresource+json": {
                            "schema": {
                                "fields": [
                                    {
                                        "name": "tag_id"
                                    },
                                    {
                                        "name": "tag_name"
                                    }
                                ]
                            },
                            "data": [
                                {
                                    "0": "30574",
                                    "1": "to-read"
                                }
                            ]
                        },
                        "text/html": [
                            "<table>",
                            "<tr><th>tag_id</th><th>tag_name</th></tr>",
                            "<tr><td>30574</td><td>to-read</td></tr>",
                            "</table>"
                        ]
                    }
                }
            ],
            "execution_count": 32
        },
        {
            "cell_type": "markdown",
            "source": [
                "Question 5: How many books where released in the first decade of 2000?"
            ],
            "metadata": {
                "azdata_cell_guid": "b3962545-c0c2-47ca-a3c4-299c2c0a4b0c"
            },
            "attachments": {}
        },
        {
            "cell_type": "code",
            "source": [
                "-- return number of books published in the first decade of 2000\n",
                "SELECT COUNT(*) AS \"books_from_2000s\"\n",
                "FROM BooksDB.dbo.books\n",
                "WHERE original_publication_year BETWEEN 2000 AND 2009;"
            ],
            "metadata": {
                "azdata_cell_guid": "8dcd65e9-1b3e-4cf8-b726-26729a1225f2",
                "language": "sql"
            },
            "outputs": [
                {
                    "output_type": "display_data",
                    "data": {
                        "text/html": "(1 row affected)"
                    },
                    "metadata": {}
                },
                {
                    "output_type": "display_data",
                    "data": {
                        "text/html": "Total execution time: 00:00:00.056"
                    },
                    "metadata": {}
                },
                {
                    "output_type": "execute_result",
                    "metadata": {},
                    "execution_count": 38,
                    "data": {
                        "application/vnd.dataresource+json": {
                            "schema": {
                                "fields": [
                                    {
                                        "name": "books_from_2000s"
                                    }
                                ]
                            },
                            "data": [
                                {
                                    "0": "3121"
                                }
                            ]
                        },
                        "text/html": [
                            "<table>",
                            "<tr><th>books_from_2000s</th></tr>",
                            "<tr><td>3121</td></tr>",
                            "</table>"
                        ]
                    }
                }
            ],
            "execution_count": 38
        },
        {
            "cell_type": "markdown",
            "source": [
                "Question 6: How many book titles contain the word Happy?"
            ],
            "metadata": {
                "azdata_cell_guid": "5080d6de-2775-4055-97ae-f93fce97a426"
            },
            "attachments": {}
        },
        {
            "cell_type": "code",
            "source": [
                "-- return number of books that contain the word Happy\n",
                "SELECT COUNT(*) AS \"books_containing_happy\"\n",
                "FROM BooksDB.dbo.books\n",
                "WHERE title LIKE '%happy%';"
            ],
            "metadata": {
                "azdata_cell_guid": "f55f18b9-91b1-4761-ad8c-4758434d7827",
                "language": "sql"
            },
            "outputs": [
                {
                    "output_type": "display_data",
                    "data": {
                        "text/html": "(1 row affected)"
                    },
                    "metadata": {}
                },
                {
                    "output_type": "display_data",
                    "data": {
                        "text/html": "Total execution time: 00:00:00.097"
                    },
                    "metadata": {}
                },
                {
                    "output_type": "execute_result",
                    "metadata": {},
                    "execution_count": 37,
                    "data": {
                        "application/vnd.dataresource+json": {
                            "schema": {
                                "fields": [
                                    {
                                        "name": "books_containing_happy"
                                    }
                                ]
                            },
                            "data": [
                                {
                                    "0": "13"
                                }
                            ]
                        },
                        "text/html": [
                            "<table>",
                            "<tr><th>books_containing_happy</th></tr>",
                            "<tr><td>13</td></tr>",
                            "</table>"
                        ]
                    }
                }
            ],
            "execution_count": 37
        },
        {
            "cell_type": "markdown",
            "source": [
                "Question 7: List the books from the top 3 authors from question 1.  If there is more than one author just use the first one. Sort the titles <span style=\"background-color: rgba(127, 127, 127, 0.1); font-family: -apple-system, BlinkMacSystemFont, sans-serif;\">alphabetically by author and then by average_rating, best rated to lowest. Does order matter in sorting? YES! Order does matter in sorting. If we put average_rating first,&nbsp;</span>"
            ],
            "metadata": {
                "azdata_cell_guid": "d38270ef-da5a-42b4-802a-506acb8b9e4b"
            },
            "attachments": {}
        },
        {
            "cell_type": "code",
            "source": [
                "-- return all books from the top 3 authors, sort by author and rating\n",
                "SELECT authors,\n",
                "    title,\n",
                "    average_rating\n",
                "FROM BooksDB.dbo.books\n",
                "WHERE authors in ('Bill Watterson', 'Brandon Sanderson', 'J.K. Rowling')\n",
                "ORDER BY authors, average_rating DESC;\n",
                ""
            ],
            "metadata": {
                "azdata_cell_guid": "47466fac-5d8d-491d-bd3c-2f8496f55e6b",
                "language": "sql",
                "tags": []
            },
            "outputs": [
                {
                    "output_type": "display_data",
                    "data": {
                        "text/html": "(41 rows affected)"
                    },
                    "metadata": {}
                },
                {
                    "output_type": "display_data",
                    "data": {
                        "text/html": "Total execution time: 00:00:00.050"
                    },
                    "metadata": {}
                },
                {
                    "output_type": "execute_result",
                    "metadata": {},
                    "execution_count": 56,
                    "data": {
                        "application/vnd.dataresource+json": {
                            "schema": {
                                "fields": [
                                    {
                                        "name": "authors"
                                    },
                                    {
                                        "name": "title"
                                    },
                                    {
                                        "name": "average_rating"
                                    }
                                ]
                            },
                            "data": [
                                {
                                    "0": "Bill Watterson",
                                    "1": "The Complete Calvin and Hobbes",
                                    "2": "4.82"
                                },
                                {
                                    "0": "Bill Watterson",
                                    "1": "It's a Magical World: A Calvin and Hobbes Collection",
                                    "2": "4.75"
                                },
                                {
                                    "0": "Bill Watterson",
                                    "1": "There's Treasure Everywhere: A Calvin and Hobbes Collection",
                                    "2": "4.74"
                                },
                                {
                                    "0": "Bill Watterson",
                                    "1": "The Authoritative Calvin and Hobbes: A Calvin and Hobbes Treasury",
                                    "2": "4.73"
                                },
                                {
                                    "0": "Bill Watterson",
                                    "1": "The Indispensable Calvin and Hobbes",
                                    "2": "4.73"
                                },
                                {
                                    "0": "Bill Watterson",
                                    "1": "Attack of the Deranged Mutant Killer Monster Snow Goons",
                                    "2": "4.72"
                                },
                                {
                                    "0": "Bill Watterson",
                                    "1": "The Revenge of the Baby-Sat",
                                    "2": "4.71"
                                },
                                {
                                    "0": "Bill Watterson",
                                    "1": "Homicidal Psycho Jungle Cat: A Calvin and Hobbes Collection",
                                    "2": "4.71"
                                },
                                {
                                    "0": "Bill Watterson",
                                    "1": "The Days Are Just Packed: A Calvin and Hobbes Collection",
                                    "2": "4.68"
                                },
                                {
                                    "0": "Bill Watterson",
                                    "1": "The Calvin and Hobbes Lazy Sunday Book",
                                    "2": "4.66"
                                },
                                {
                                    "0": "Bill Watterson",
                                    "1": "The Essential Calvin and Hobbes: A Calvin and Hobbes Treasury",
                                    "2": "4.65"
                                },
                                {
                                    "0": "Bill Watterson",
                                    "1": "The Calvin and Hobbes Tenth Anniversary Book",
                                    "2": "4.63"
                                },
                                {
                                    "0": "Brandon Sanderson",
                                    "1": "Words of Radiance (The Stormlight Archive, #2)",
                                    "2": "4.77"
                                },
                                {
                                    "0": "Brandon Sanderson",
                                    "1": "The Way of Kings, Part 1 (The Stormlight Archive #1.1)",
                                    "2": "4.67"
                                },
                                {
                                    "0": "Brandon Sanderson",
                                    "1": "The Way of Kings (The Stormlight Archive, #1)",
                                    "2": "4.64"
                                },
                                {
                                    "0": "Brandon Sanderson",
                                    "1": "Mistborn Trilogy Boxed Set (Mistborn, #1-3)",
                                    "2": "4.55"
                                },
                                {
                                    "0": "Brandon Sanderson",
                                    "1": "The Hero of Ages (Mistborn, #3)",
                                    "2": "4.46"
                                },
                                {
                                    "0": "Brandon Sanderson",
                                    "1": "The Bands of Mourning (Mistborn, #6)",
                                    "2": "4.45"
                                },
                                {
                                    "0": "Brandon Sanderson",
                                    "1": "The Final Empire (Mistborn, #1)",
                                    "2": "4.43"
                                },
                                {
                                    "0": "Brandon Sanderson",
                                    "1": "Secret History (Mistborn, #3.5)",
                                    "2": "4.38"
                                },
                                {
                                    "0": "Brandon Sanderson",
                                    "1": "The Well of Ascension (Mistborn, #2)",
                                    "2": "4.35"
                                },
                                {
                                    "0": "Brandon Sanderson",
                                    "1": "The Emperor's Soul",
                                    "2": "4.33"
                                },
                                {
                                    "0": "Brandon Sanderson",
                                    "1": "Shadows of Self (Mistborn, #5)",
                                    "2": "4.3"
                                },
                                {
                                    "0": "Brandon Sanderson",
                                    "1": "Firefight (The Reckoners, #2)",
                                    "2": "4.29"
                                },
                                {
                                    "0": "Brandon Sanderson",
                                    "1": "The Rithmatist (The Rithmatist, #1)",
                                    "2": "4.25"
                                },
                                {
                                    "0": "Brandon Sanderson",
                                    "1": "Warbreaker (Warbreaker, #1)",
                                    "2": "4.22"
                                },
                                {
                                    "0": "Brandon Sanderson",
                                    "1": "The Alloy of Law (Mistborn, #4)",
                                    "2": "4.2"
                                },
                                {
                                    "0": "Brandon Sanderson",
                                    "1": "Calamity (The Reckoners, #3)",
                                    "2": "4.2"
                                },
                                {
                                    "0": "Brandon Sanderson",
                                    "1": "Elantris (Elantris, #1)",
                                    "2": "4.17"
                                },
                                {
                                    "0": "Brandon Sanderson",
                                    "1": "Steelheart (The Reckoners, #1)",
                                    "2": "4.16"
                                },
                                {
                                    "0": "Brandon Sanderson",
                                    "1": "Legion (Legion, #1)",
                                    "2": "4.13"
                                },
                                {
                                    "0": "Brandon Sanderson",
                                    "1": "Mitosis (The Reckoners, #1.5)",
                                    "2": "3.87"
                                },
                                {
                                    "0": "Brandon Sanderson",
                                    "1": "Alcatraz Versus the Evil Librarians (Alcatraz, #1)",
                                    "2": "3.87"
                                },
                                {
                                    "0": "J.K. Rowling",
                                    "1": "Harry Potter Boxset (Harry Potter, #1-7)",
                                    "2": "4.74"
                                },
                                {
                                    "0": "J.K. Rowling",
                                    "1": "Harry Potter Collection (Harry Potter, #1-6)",
                                    "2": "4.73"
                                },
                                {
                                    "0": "J.K. Rowling",
                                    "1": "Harry Potter and the Order of the Phoenix (Harry Potter, #5, Part 1)",
                                    "2": "4.56"
                                },
                                {
                                    "0": "J.K. Rowling",
                                    "1": "Fantastic Beasts and Where to Find Them: The Original Screenplay",
                                    "2": "4.41"
                                },
                                {
                                    "0": "J.K. Rowling",
                                    "1": "Harry Potter Schoolbooks Box Set: Two Classic Books from the Library of Hogwarts School of Witchcraft and Wizardry",
                                    "2": "4.4"
                                },
                                {
                                    "0": "J.K. Rowling",
                                    "1": "Hogwarts: An Incomplete and Unreliable Guide (Pottermore Presents, #3)",
                                    "2": "4.21"
                                },
                                {
                                    "0": "J.K. Rowling",
                                    "1": "The Tales of Beedle the Bard",
                                    "2": "4.06"
                                },
                                {
                                    "0": "J.K. Rowling",
                                    "1": "The Casual Vacancy",
                                    "2": "3.28"
                                }
                            ]
                        },
                        "text/html": [
                            "<table>",
                            "<tr><th>authors</th><th>title</th><th>average_rating</th></tr>",
                            "<tr><td>Bill Watterson</td><td>The Complete Calvin and Hobbes</td><td>4.82</td></tr>",
                            "<tr><td>Bill Watterson</td><td>It's a Magical World: A Calvin and Hobbes Collection</td><td>4.75</td></tr>",
                            "<tr><td>Bill Watterson</td><td>There's Treasure Everywhere: A Calvin and Hobbes Collection</td><td>4.74</td></tr>",
                            "<tr><td>Bill Watterson</td><td>The Authoritative Calvin and Hobbes: A Calvin and Hobbes Treasury</td><td>4.73</td></tr>",
                            "<tr><td>Bill Watterson</td><td>The Indispensable Calvin and Hobbes</td><td>4.73</td></tr>",
                            "<tr><td>Bill Watterson</td><td>Attack of the Deranged Mutant Killer Monster Snow Goons</td><td>4.72</td></tr>",
                            "<tr><td>Bill Watterson</td><td>The Revenge of the Baby-Sat</td><td>4.71</td></tr>",
                            "<tr><td>Bill Watterson</td><td>Homicidal Psycho Jungle Cat: A Calvin and Hobbes Collection</td><td>4.71</td></tr>",
                            "<tr><td>Bill Watterson</td><td>The Days Are Just Packed: A Calvin and Hobbes Collection</td><td>4.68</td></tr>",
                            "<tr><td>Bill Watterson</td><td>The Calvin and Hobbes Lazy Sunday Book</td><td>4.66</td></tr>",
                            "<tr><td>Bill Watterson</td><td>The Essential Calvin and Hobbes: A Calvin and Hobbes Treasury</td><td>4.65</td></tr>",
                            "<tr><td>Bill Watterson</td><td>The Calvin and Hobbes Tenth Anniversary Book</td><td>4.63</td></tr>",
                            "<tr><td>Brandon Sanderson</td><td>Words of Radiance (The Stormlight Archive, #2)</td><td>4.77</td></tr>",
                            "<tr><td>Brandon Sanderson</td><td>The Way of Kings, Part 1 (The Stormlight Archive #1.1)</td><td>4.67</td></tr>",
                            "<tr><td>Brandon Sanderson</td><td>The Way of Kings (The Stormlight Archive, #1)</td><td>4.64</td></tr>",
                            "<tr><td>Brandon Sanderson</td><td>Mistborn Trilogy Boxed Set (Mistborn, #1-3)</td><td>4.55</td></tr>",
                            "<tr><td>Brandon Sanderson</td><td>The Hero of Ages (Mistborn, #3)</td><td>4.46</td></tr>",
                            "<tr><td>Brandon Sanderson</td><td>The Bands of Mourning (Mistborn, #6)</td><td>4.45</td></tr>",
                            "<tr><td>Brandon Sanderson</td><td>The Final Empire (Mistborn, #1)</td><td>4.43</td></tr>",
                            "<tr><td>Brandon Sanderson</td><td>Secret History (Mistborn, #3.5)</td><td>4.38</td></tr>",
                            "<tr><td>Brandon Sanderson</td><td>The Well of Ascension (Mistborn, #2)</td><td>4.35</td></tr>",
                            "<tr><td>Brandon Sanderson</td><td>The Emperor's Soul</td><td>4.33</td></tr>",
                            "<tr><td>Brandon Sanderson</td><td>Shadows of Self (Mistborn, #5)</td><td>4.3</td></tr>",
                            "<tr><td>Brandon Sanderson</td><td>Firefight (The Reckoners, #2)</td><td>4.29</td></tr>",
                            "<tr><td>Brandon Sanderson</td><td>The Rithmatist (The Rithmatist, #1)</td><td>4.25</td></tr>",
                            "<tr><td>Brandon Sanderson</td><td>Warbreaker (Warbreaker, #1)</td><td>4.22</td></tr>",
                            "<tr><td>Brandon Sanderson</td><td>The Alloy of Law (Mistborn, #4)</td><td>4.2</td></tr>",
                            "<tr><td>Brandon Sanderson</td><td>Calamity (The Reckoners, #3)</td><td>4.2</td></tr>",
                            "<tr><td>Brandon Sanderson</td><td>Elantris (Elantris, #1)</td><td>4.17</td></tr>",
                            "<tr><td>Brandon Sanderson</td><td>Steelheart (The Reckoners, #1)</td><td>4.16</td></tr>",
                            "<tr><td>Brandon Sanderson</td><td>Legion (Legion, #1)</td><td>4.13</td></tr>",
                            "<tr><td>Brandon Sanderson</td><td>Mitosis (The Reckoners, #1.5)</td><td>3.87</td></tr>",
                            "<tr><td>Brandon Sanderson</td><td>Alcatraz Versus the Evil Librarians (Alcatraz, #1)</td><td>3.87</td></tr>",
                            "<tr><td>J.K. Rowling</td><td>Harry Potter Boxset (Harry Potter, #1-7)</td><td>4.74</td></tr>",
                            "<tr><td>J.K. Rowling</td><td>Harry Potter Collection (Harry Potter, #1-6)</td><td>4.73</td></tr>",
                            "<tr><td>J.K. Rowling</td><td>Harry Potter and the Order of the Phoenix (Harry Potter, #5, Part 1)</td><td>4.56</td></tr>",
                            "<tr><td>J.K. Rowling</td><td>Fantastic Beasts and Where to Find Them: The Original Screenplay</td><td>4.41</td></tr>",
                            "<tr><td>J.K. Rowling</td><td>Harry Potter Schoolbooks Box Set: Two Classic Books from the Library of Hogwarts School of Witchcraft and Wizardry</td><td>4.4</td></tr>",
                            "<tr><td>J.K. Rowling</td><td>Hogwarts: An Incomplete and Unreliable Guide (Pottermore Presents, #3)</td><td>4.21</td></tr>",
                            "<tr><td>J.K. Rowling</td><td>The Tales of Beedle the Bard</td><td>4.06</td></tr>",
                            "<tr><td>J.K. Rowling</td><td>The Casual Vacancy</td><td>3.28</td></tr>",
                            "</table>"
                        ]
                    }
                }
            ],
            "execution_count": 56
        },
        {
            "cell_type": "markdown",
            "source": [
                "Question 8: Take a close look at J.K. Rowling.  Is her top rated book on this list from question 1?  Why might this be? How could we account for this?\n",
                "\n",
                "> No it is not the same boxset. The Harry Potter boxset listed in the Top Rated Book list shows Harry Potter Boxset Books #1-5, but the one on the table listed here is the Harry Potter Boxset Books #1-7.  This would be because there is more than 1 author listed for the Harry Potter Boxset Books #1-5 and in this dataset, we specifically chose the 1st author."
            ],
            "metadata": {
                "azdata_cell_guid": "db907c70-0bbd-4121-ac91-ae814f703243"
            },
            "attachments": {}
        },
        {
            "cell_type": "markdown",
            "source": [
                "Try updating your above query to include all of J.K. Rowling's books.\n",
                "\n",
                "Are there any other issues?\n",
                "\n",
                "> I added \"OR authors LIKE '%J.K. Rowling%'\""
            ],
            "metadata": {
                "azdata_cell_guid": "35ee4a48-8e84-4eb5-95ca-f5cdddc8d682"
            },
            "attachments": {}
        },
        {
            "cell_type": "code",
            "source": [
                "-- Try updating your above query to include all of J.K. Rowling's books\n",
                "SELECT authors,\n",
                "    title,\n",
                "    average_rating\n",
                "FROM BooksDB.dbo.books\n",
                "WHERE authors in ('Bill Watterson', 'Brandon Sanderson', 'J.K. Rowling') OR authors LIKE '%J.K. Rowling%'\n",
                "ORDER BY authors, average_rating DESC;"
            ],
            "metadata": {
                "azdata_cell_guid": "ce489012-fce9-435c-b570-7734223a0678",
                "tags": [],
                "language": "sql"
            },
            "outputs": [
                {
                    "output_type": "display_data",
                    "data": {
                        "text/html": "(60 rows affected)"
                    },
                    "metadata": {}
                },
                {
                    "output_type": "display_data",
                    "data": {
                        "text/html": "Total execution time: 00:00:00.069"
                    },
                    "metadata": {}
                },
                {
                    "output_type": "execute_result",
                    "metadata": {},
                    "execution_count": 57,
                    "data": {
                        "application/vnd.dataresource+json": {
                            "schema": {
                                "fields": [
                                    {
                                        "name": "authors"
                                    },
                                    {
                                        "name": "title"
                                    },
                                    {
                                        "name": "average_rating"
                                    }
                                ]
                            },
                            "data": [
                                {
                                    "0": "Bill Watterson",
                                    "1": "The Complete Calvin and Hobbes",
                                    "2": "4.82"
                                },
                                {
                                    "0": "Bill Watterson",
                                    "1": "It's a Magical World: A Calvin and Hobbes Collection",
                                    "2": "4.75"
                                },
                                {
                                    "0": "Bill Watterson",
                                    "1": "There's Treasure Everywhere: A Calvin and Hobbes Collection",
                                    "2": "4.74"
                                },
                                {
                                    "0": "Bill Watterson",
                                    "1": "The Authoritative Calvin and Hobbes: A Calvin and Hobbes Treasury",
                                    "2": "4.73"
                                },
                                {
                                    "0": "Bill Watterson",
                                    "1": "The Indispensable Calvin and Hobbes",
                                    "2": "4.73"
                                },
                                {
                                    "0": "Bill Watterson",
                                    "1": "Attack of the Deranged Mutant Killer Monster Snow Goons",
                                    "2": "4.72"
                                },
                                {
                                    "0": "Bill Watterson",
                                    "1": "The Revenge of the Baby-Sat",
                                    "2": "4.71"
                                },
                                {
                                    "0": "Bill Watterson",
                                    "1": "Homicidal Psycho Jungle Cat: A Calvin and Hobbes Collection",
                                    "2": "4.71"
                                },
                                {
                                    "0": "Bill Watterson",
                                    "1": "The Days Are Just Packed: A Calvin and Hobbes Collection",
                                    "2": "4.68"
                                },
                                {
                                    "0": "Bill Watterson",
                                    "1": "The Calvin and Hobbes Lazy Sunday Book",
                                    "2": "4.66"
                                },
                                {
                                    "0": "Bill Watterson",
                                    "1": "The Essential Calvin and Hobbes: A Calvin and Hobbes Treasury",
                                    "2": "4.65"
                                },
                                {
                                    "0": "Bill Watterson",
                                    "1": "The Calvin and Hobbes Tenth Anniversary Book",
                                    "2": "4.63"
                                },
                                {
                                    "0": "Brandon Sanderson",
                                    "1": "Words of Radiance (The Stormlight Archive, #2)",
                                    "2": "4.77"
                                },
                                {
                                    "0": "Brandon Sanderson",
                                    "1": "The Way of Kings, Part 1 (The Stormlight Archive #1.1)",
                                    "2": "4.67"
                                },
                                {
                                    "0": "Brandon Sanderson",
                                    "1": "The Way of Kings (The Stormlight Archive, #1)",
                                    "2": "4.64"
                                },
                                {
                                    "0": "Brandon Sanderson",
                                    "1": "Mistborn Trilogy Boxed Set (Mistborn, #1-3)",
                                    "2": "4.55"
                                },
                                {
                                    "0": "Brandon Sanderson",
                                    "1": "The Hero of Ages (Mistborn, #3)",
                                    "2": "4.46"
                                },
                                {
                                    "0": "Brandon Sanderson",
                                    "1": "The Bands of Mourning (Mistborn, #6)",
                                    "2": "4.45"
                                },
                                {
                                    "0": "Brandon Sanderson",
                                    "1": "The Final Empire (Mistborn, #1)",
                                    "2": "4.43"
                                },
                                {
                                    "0": "Brandon Sanderson",
                                    "1": "Secret History (Mistborn, #3.5)",
                                    "2": "4.38"
                                },
                                {
                                    "0": "Brandon Sanderson",
                                    "1": "The Well of Ascension (Mistborn, #2)",
                                    "2": "4.35"
                                },
                                {
                                    "0": "Brandon Sanderson",
                                    "1": "The Emperor's Soul",
                                    "2": "4.33"
                                },
                                {
                                    "0": "Brandon Sanderson",
                                    "1": "Shadows of Self (Mistborn, #5)",
                                    "2": "4.3"
                                },
                                {
                                    "0": "Brandon Sanderson",
                                    "1": "Firefight (The Reckoners, #2)",
                                    "2": "4.29"
                                },
                                {
                                    "0": "Brandon Sanderson",
                                    "1": "The Rithmatist (The Rithmatist, #1)",
                                    "2": "4.25"
                                },
                                {
                                    "0": "Brandon Sanderson",
                                    "1": "Warbreaker (Warbreaker, #1)",
                                    "2": "4.22"
                                },
                                {
                                    "0": "Brandon Sanderson",
                                    "1": "The Alloy of Law (Mistborn, #4)",
                                    "2": "4.2"
                                },
                                {
                                    "0": "Brandon Sanderson",
                                    "1": "Calamity (The Reckoners, #3)",
                                    "2": "4.2"
                                },
                                {
                                    "0": "Brandon Sanderson",
                                    "1": "Elantris (Elantris, #1)",
                                    "2": "4.17"
                                },
                                {
                                    "0": "Brandon Sanderson",
                                    "1": "Steelheart (The Reckoners, #1)",
                                    "2": "4.16"
                                },
                                {
                                    "0": "Brandon Sanderson",
                                    "1": "Legion (Legion, #1)",
                                    "2": "4.13"
                                },
                                {
                                    "0": "Brandon Sanderson",
                                    "1": "Mitosis (The Reckoners, #1.5)",
                                    "2": "3.87"
                                },
                                {
                                    "0": "Brandon Sanderson",
                                    "1": "Alcatraz Versus the Evil Librarians (Alcatraz, #1)",
                                    "2": "3.87"
                                },
                                {
                                    "0": "J.K. Rowling",
                                    "1": "Harry Potter Boxset (Harry Potter, #1-7)",
                                    "2": "4.74"
                                },
                                {
                                    "0": "J.K. Rowling",
                                    "1": "Harry Potter Collection (Harry Potter, #1-6)",
                                    "2": "4.73"
                                },
                                {
                                    "0": "J.K. Rowling",
                                    "1": "Harry Potter and the Order of the Phoenix (Harry Potter, #5, Part 1)",
                                    "2": "4.56"
                                },
                                {
                                    "0": "J.K. Rowling",
                                    "1": "Fantastic Beasts and Where to Find Them: The Original Screenplay",
                                    "2": "4.41"
                                },
                                {
                                    "0": "J.K. Rowling",
                                    "1": "Harry Potter Schoolbooks Box Set: Two Classic Books from the Library of Hogwarts School of Witchcraft and Wizardry",
                                    "2": "4.4"
                                },
                                {
                                    "0": "J.K. Rowling",
                                    "1": "Hogwarts: An Incomplete and Unreliable Guide (Pottermore Presents, #3)",
                                    "2": "4.21"
                                },
                                {
                                    "0": "J.K. Rowling",
                                    "1": "The Tales of Beedle the Bard",
                                    "2": "4.06"
                                },
                                {
                                    "0": "J.K. Rowling",
                                    "1": "The Casual Vacancy",
                                    "2": "3.28"
                                },
                                {
                                    "0": "J.K. Rowling, Joel Holland",
                                    "1": "Very Good Lives: The Fringe Benefits of Failure and the Importance of Imagination",
                                    "2": "4.26"
                                },
                                {
                                    "0": "J.K. Rowling, Mary GrandPré",
                                    "1": "Harry Potter Boxed Set, Books 1-5 (Harry Potter, #1-5)",
                                    "2": "4.77"
                                },
                                {
                                    "0": "J.K. Rowling, Mary GrandPré",
                                    "1": "The Harry Potter Collection 1-4 (Harry Potter, #1-4)",
                                    "2": "4.66"
                                },
                                {
                                    "0": "J.K. Rowling, Mary GrandPré",
                                    "1": "Harry Potter and the Deathly Hallows (Harry Potter, #7)",
                                    "2": "4.61"
                                },
                                {
                                    "0": "J.K. Rowling, Mary GrandPré",
                                    "1": "Harry Potter and the Half-Blood Prince (Harry Potter, #6)",
                                    "2": "4.54"
                                },
                                {
                                    "0": "J.K. Rowling, Mary GrandPré",
                                    "1": "Harry Potter and the Goblet of Fire (Harry Potter, #4)",
                                    "2": "4.53"
                                },
                                {
                                    "0": "J.K. Rowling, Mary GrandPré",
                                    "1": "Harry Potter and the Order of the Phoenix (Harry Potter, #5)",
                                    "2": "4.46"
                                },
                                {
                                    "0": "J.K. Rowling, Mary GrandPré",
                                    "1": "Harry Potter and the Sorcerer's Stone (Harry Potter, #1)",
                                    "2": "4.44"
                                },
                                {
                                    "0": "J.K. Rowling, Mary GrandPré",
                                    "1": "Harry Potter and the Chamber of Secrets (Harry Potter, #2)",
                                    "2": "4.37"
                                },
                                {
                                    "0": "J.K. Rowling, Mary GrandPré, Rufus Beck",
                                    "1": "Harry Potter and the Prisoner of Azkaban (Harry Potter, #3)",
                                    "2": "4.53"
                                },
                                {
                                    "0": "J.K. Rowling, MinaLima",
                                    "1": "Short Stories from Hogwarts of Heroism, Hardship and Dangerous Hobbies (Pottermore Presents, #1)",
                                    "2": "4.22"
                                },
                                {
                                    "0": "J.K. Rowling, MinaLima",
                                    "1": "Short Stories from Hogwarts of Power, Politics and Pesky Poltergeists (Pottermore Presents, #2)",
                                    "2": "4.2"
                                },
                                {
                                    "0": "John Tiffany, Jack Thorne, J.K. Rowling",
                                    "1": "Harry Potter and the Cursed Child - Parts One and Two (Harry Potter, #8)",
                                    "2": "3.75"
                                },
                                {
                                    "0": "Kennilworthy Whisp, J.K. Rowling",
                                    "1": "Quidditch Through the Ages",
                                    "2": "3.85"
                                },
                                {
                                    "0": "Melissa Anelli, J.K. Rowling",
                                    "1": "Harry, a History: The True Story of a Boy Wizard, His Fans, and Life Inside the Harry Potter Phenomenon",
                                    "2": "4.09"
                                },
                                {
                                    "0": "Newt Scamander, J.K. Rowling, Albus Dumbledore",
                                    "1": "Fantastic Beasts and Where to Find Them",
                                    "2": "3.95"
                                },
                                {
                                    "0": "Robert Galbraith, J.K. Rowling",
                                    "1": "Career of Evil (Cormoran Strike, #3)",
                                    "2": "4.21"
                                },
                                {
                                    "0": "Robert Galbraith, J.K. Rowling",
                                    "1": "The Silkworm (Cormoran Strike, #2)",
                                    "2": "4.03"
                                },
                                {
                                    "0": "Robert Galbraith, J.K. Rowling",
                                    "1": "The Cuckoo's Calling (Cormoran Strike, #1)",
                                    "2": "3.83"
                                }
                            ]
                        },
                        "text/html": [
                            "<table>",
                            "<tr><th>authors</th><th>title</th><th>average_rating</th></tr>",
                            "<tr><td>Bill Watterson</td><td>The Complete Calvin and Hobbes</td><td>4.82</td></tr>",
                            "<tr><td>Bill Watterson</td><td>It's a Magical World: A Calvin and Hobbes Collection</td><td>4.75</td></tr>",
                            "<tr><td>Bill Watterson</td><td>There's Treasure Everywhere: A Calvin and Hobbes Collection</td><td>4.74</td></tr>",
                            "<tr><td>Bill Watterson</td><td>The Authoritative Calvin and Hobbes: A Calvin and Hobbes Treasury</td><td>4.73</td></tr>",
                            "<tr><td>Bill Watterson</td><td>The Indispensable Calvin and Hobbes</td><td>4.73</td></tr>",
                            "<tr><td>Bill Watterson</td><td>Attack of the Deranged Mutant Killer Monster Snow Goons</td><td>4.72</td></tr>",
                            "<tr><td>Bill Watterson</td><td>The Revenge of the Baby-Sat</td><td>4.71</td></tr>",
                            "<tr><td>Bill Watterson</td><td>Homicidal Psycho Jungle Cat: A Calvin and Hobbes Collection</td><td>4.71</td></tr>",
                            "<tr><td>Bill Watterson</td><td>The Days Are Just Packed: A Calvin and Hobbes Collection</td><td>4.68</td></tr>",
                            "<tr><td>Bill Watterson</td><td>The Calvin and Hobbes Lazy Sunday Book</td><td>4.66</td></tr>",
                            "<tr><td>Bill Watterson</td><td>The Essential Calvin and Hobbes: A Calvin and Hobbes Treasury</td><td>4.65</td></tr>",
                            "<tr><td>Bill Watterson</td><td>The Calvin and Hobbes Tenth Anniversary Book</td><td>4.63</td></tr>",
                            "<tr><td>Brandon Sanderson</td><td>Words of Radiance (The Stormlight Archive, #2)</td><td>4.77</td></tr>",
                            "<tr><td>Brandon Sanderson</td><td>The Way of Kings, Part 1 (The Stormlight Archive #1.1)</td><td>4.67</td></tr>",
                            "<tr><td>Brandon Sanderson</td><td>The Way of Kings (The Stormlight Archive, #1)</td><td>4.64</td></tr>",
                            "<tr><td>Brandon Sanderson</td><td>Mistborn Trilogy Boxed Set (Mistborn, #1-3)</td><td>4.55</td></tr>",
                            "<tr><td>Brandon Sanderson</td><td>The Hero of Ages (Mistborn, #3)</td><td>4.46</td></tr>",
                            "<tr><td>Brandon Sanderson</td><td>The Bands of Mourning (Mistborn, #6)</td><td>4.45</td></tr>",
                            "<tr><td>Brandon Sanderson</td><td>The Final Empire (Mistborn, #1)</td><td>4.43</td></tr>",
                            "<tr><td>Brandon Sanderson</td><td>Secret History (Mistborn, #3.5)</td><td>4.38</td></tr>",
                            "<tr><td>Brandon Sanderson</td><td>The Well of Ascension (Mistborn, #2)</td><td>4.35</td></tr>",
                            "<tr><td>Brandon Sanderson</td><td>The Emperor's Soul</td><td>4.33</td></tr>",
                            "<tr><td>Brandon Sanderson</td><td>Shadows of Self (Mistborn, #5)</td><td>4.3</td></tr>",
                            "<tr><td>Brandon Sanderson</td><td>Firefight (The Reckoners, #2)</td><td>4.29</td></tr>",
                            "<tr><td>Brandon Sanderson</td><td>The Rithmatist (The Rithmatist, #1)</td><td>4.25</td></tr>",
                            "<tr><td>Brandon Sanderson</td><td>Warbreaker (Warbreaker, #1)</td><td>4.22</td></tr>",
                            "<tr><td>Brandon Sanderson</td><td>The Alloy of Law (Mistborn, #4)</td><td>4.2</td></tr>",
                            "<tr><td>Brandon Sanderson</td><td>Calamity (The Reckoners, #3)</td><td>4.2</td></tr>",
                            "<tr><td>Brandon Sanderson</td><td>Elantris (Elantris, #1)</td><td>4.17</td></tr>",
                            "<tr><td>Brandon Sanderson</td><td>Steelheart (The Reckoners, #1)</td><td>4.16</td></tr>",
                            "<tr><td>Brandon Sanderson</td><td>Legion (Legion, #1)</td><td>4.13</td></tr>",
                            "<tr><td>Brandon Sanderson</td><td>Mitosis (The Reckoners, #1.5)</td><td>3.87</td></tr>",
                            "<tr><td>Brandon Sanderson</td><td>Alcatraz Versus the Evil Librarians (Alcatraz, #1)</td><td>3.87</td></tr>",
                            "<tr><td>J.K. Rowling</td><td>Harry Potter Boxset (Harry Potter, #1-7)</td><td>4.74</td></tr>",
                            "<tr><td>J.K. Rowling</td><td>Harry Potter Collection (Harry Potter, #1-6)</td><td>4.73</td></tr>",
                            "<tr><td>J.K. Rowling</td><td>Harry Potter and the Order of the Phoenix (Harry Potter, #5, Part 1)</td><td>4.56</td></tr>",
                            "<tr><td>J.K. Rowling</td><td>Fantastic Beasts and Where to Find Them: The Original Screenplay</td><td>4.41</td></tr>",
                            "<tr><td>J.K. Rowling</td><td>Harry Potter Schoolbooks Box Set: Two Classic Books from the Library of Hogwarts School of Witchcraft and Wizardry</td><td>4.4</td></tr>",
                            "<tr><td>J.K. Rowling</td><td>Hogwarts: An Incomplete and Unreliable Guide (Pottermore Presents, #3)</td><td>4.21</td></tr>",
                            "<tr><td>J.K. Rowling</td><td>The Tales of Beedle the Bard</td><td>4.06</td></tr>",
                            "<tr><td>J.K. Rowling</td><td>The Casual Vacancy</td><td>3.28</td></tr>",
                            "<tr><td>J.K. Rowling, Joel Holland</td><td>Very Good Lives: The Fringe Benefits of Failure and the Importance of Imagination</td><td>4.26</td></tr>",
                            "<tr><td>J.K. Rowling, Mary GrandPré</td><td>Harry Potter Boxed Set, Books 1-5 (Harry Potter, #1-5)</td><td>4.77</td></tr>",
                            "<tr><td>J.K. Rowling, Mary GrandPré</td><td>The Harry Potter Collection 1-4 (Harry Potter, #1-4)</td><td>4.66</td></tr>",
                            "<tr><td>J.K. Rowling, Mary GrandPré</td><td>Harry Potter and the Deathly Hallows (Harry Potter, #7)</td><td>4.61</td></tr>",
                            "<tr><td>J.K. Rowling, Mary GrandPré</td><td>Harry Potter and the Half-Blood Prince (Harry Potter, #6)</td><td>4.54</td></tr>",
                            "<tr><td>J.K. Rowling, Mary GrandPré</td><td>Harry Potter and the Goblet of Fire (Harry Potter, #4)</td><td>4.53</td></tr>",
                            "<tr><td>J.K. Rowling, Mary GrandPré</td><td>Harry Potter and the Order of the Phoenix (Harry Potter, #5)</td><td>4.46</td></tr>",
                            "<tr><td>J.K. Rowling, Mary GrandPré</td><td>Harry Potter and the Sorcerer's Stone (Harry Potter, #1)</td><td>4.44</td></tr>",
                            "<tr><td>J.K. Rowling, Mary GrandPré</td><td>Harry Potter and the Chamber of Secrets (Harry Potter, #2)</td><td>4.37</td></tr>",
                            "<tr><td>J.K. Rowling, Mary GrandPré, Rufus Beck</td><td>Harry Potter and the Prisoner of Azkaban (Harry Potter, #3)</td><td>4.53</td></tr>",
                            "<tr><td>J.K. Rowling, MinaLima</td><td>Short Stories from Hogwarts of Heroism, Hardship and Dangerous Hobbies (Pottermore Presents, #1)</td><td>4.22</td></tr>",
                            "<tr><td>J.K. Rowling, MinaLima</td><td>Short Stories from Hogwarts of Power, Politics and Pesky Poltergeists (Pottermore Presents, #2)</td><td>4.2</td></tr>",
                            "<tr><td>John Tiffany, Jack Thorne, J.K. Rowling</td><td>Harry Potter and the Cursed Child - Parts One and Two (Harry Potter, #8)</td><td>3.75</td></tr>",
                            "<tr><td>Kennilworthy Whisp, J.K. Rowling</td><td>Quidditch Through the Ages</td><td>3.85</td></tr>",
                            "<tr><td>Melissa Anelli, J.K. Rowling</td><td>Harry, a History: The True Story of a Boy Wizard, His Fans, and Life Inside the Harry Potter Phenomenon</td><td>4.09</td></tr>",
                            "<tr><td>Newt Scamander, J.K. Rowling, Albus Dumbledore</td><td>Fantastic Beasts and Where to Find Them</td><td>3.95</td></tr>",
                            "<tr><td>Robert Galbraith, J.K. Rowling</td><td>Career of Evil (Cormoran Strike, #3)</td><td>4.21</td></tr>",
                            "<tr><td>Robert Galbraith, J.K. Rowling</td><td>The Silkworm (Cormoran Strike, #2)</td><td>4.03</td></tr>",
                            "<tr><td>Robert Galbraith, J.K. Rowling</td><td>The Cuckoo's Calling (Cormoran Strike, #1)</td><td>3.83</td></tr>",
                            "</table>"
                        ]
                    }
                }
            ],
            "execution_count": 57
        },
        {
            "cell_type": "markdown",
            "source": [
                "Question 9: Write a query that returns the number of Authors whose first name is between rock and roll."
            ],
            "metadata": {
                "azdata_cell_guid": "75bf5054-4918-4e9e-8e03-24a38ffab9cc"
            },
            "attachments": {}
        },
        {
            "cell_type": "code",
            "source": [
                "-- return number of authors whose first name is between rock and roll\n",
                "SELECT COUNT(*) AS \"Authors Between Rock and Roll\"\n",
                "FROM BooksDB.dbo.books\n",
                "WHERE authors BETWEEN 'rock%' AND 'roll%';\n",
                ""
            ],
            "metadata": {
                "azdata_cell_guid": "491b2492-95d4-4078-b319-386b0c5592ec",
                "language": "sql"
            },
            "outputs": [
                {
                    "output_type": "display_data",
                    "data": {
                        "text/html": "(1 row affected)"
                    },
                    "metadata": {}
                },
                {
                    "output_type": "display_data",
                    "data": {
                        "text/html": "Total execution time: 00:00:00.046"
                    },
                    "metadata": {}
                },
                {
                    "output_type": "execute_result",
                    "metadata": {},
                    "execution_count": 60,
                    "data": {
                        "application/vnd.dataresource+json": {
                            "schema": {
                                "fields": [
                                    {
                                        "name": "Authors Between Rock and Roll"
                                    }
                                ]
                            },
                            "data": [
                                {
                                    "0": "25"
                                }
                            ]
                        },
                        "text/html": [
                            "<table>",
                            "<tr><th>Authors Between Rock and Roll</th></tr>",
                            "<tr><td>25</td></tr>",
                            "</table>"
                        ]
                    }
                }
            ],
            "execution_count": 60
        },
        {
            "cell_type": "markdown",
            "source": [
                "## Part 2. Write your own question and write a query to answer it.\n",
                "\n",
                "Your Question:  Click here to add"
            ],
            "metadata": {
                "azdata_cell_guid": "1ba1363a-4f02-4962-a95a-93b80c5926b1"
            },
            "attachments": {}
        },
        {
            "cell_type": "code",
            "source": [
                "-- Add your querry here: What is the rating for all of the Lord of the Rings books, include title, book_id, authors, and average_rating.\n",
                "SELECT title,\n",
                "    book_id,\n",
                "    authors,\n",
                "    average_rating\n",
                "FROM BooksDB.dbo.books\n",
                "WHERE title LIKE '%Lord%' AND authors = 'J.R.R. Tolkien'"
            ],
            "metadata": {
                "azdata_cell_guid": "607f1a61-b306-42bf-a20c-60ec3a6ba86a",
                "language": "sql"
            },
            "outputs": [
                {
                    "output_type": "display_data",
                    "data": {
                        "text/html": "(5 rows affected)"
                    },
                    "metadata": {}
                },
                {
                    "output_type": "display_data",
                    "data": {
                        "text/html": "Total execution time: 00:00:00.118"
                    },
                    "metadata": {}
                },
                {
                    "output_type": "execute_result",
                    "metadata": {},
                    "execution_count": 61,
                    "data": {
                        "application/vnd.dataresource+json": {
                            "schema": {
                                "fields": [
                                    {
                                        "name": "title"
                                    },
                                    {
                                        "name": "book_id"
                                    },
                                    {
                                        "name": "authors"
                                    },
                                    {
                                        "name": "average_rating"
                                    }
                                ]
                            },
                            "data": [
                                {
                                    "0": "The Fellowship of the Ring (The Lord of the Rings, #1)",
                                    "1": "34",
                                    "2": "J.R.R. Tolkien",
                                    "3": "4.34"
                                },
                                {
                                    "0": "The Two Towers (The Lord of the Rings, #2)",
                                    "1": "15241",
                                    "2": "J.R.R. Tolkien",
                                    "3": "4.42"
                                },
                                {
                                    "0": "The Return of the King (The Lord of the Rings, #3)",
                                    "1": "18512",
                                    "2": "J.R.R. Tolkien",
                                    "3": "4.51"
                                },
                                {
                                    "0": "The Lord of the Rings (The Lord of the Rings, #1-3)",
                                    "1": "33",
                                    "2": "J.R.R. Tolkien",
                                    "3": "4.47"
                                },
                                {
                                    "0": "J.R.R. Tolkien 4-Book Boxed Set: The Hobbit and The Lord of the Rings",
                                    "1": "30",
                                    "2": "J.R.R. Tolkien",
                                    "3": "4.59"
                                }
                            ]
                        },
                        "text/html": [
                            "<table>",
                            "<tr><th>title</th><th>book_id</th><th>authors</th><th>average_rating</th></tr>",
                            "<tr><td>The Fellowship of the Ring (The Lord of the Rings, #1)</td><td>34</td><td>J.R.R. Tolkien</td><td>4.34</td></tr>",
                            "<tr><td>The Two Towers (The Lord of the Rings, #2)</td><td>15241</td><td>J.R.R. Tolkien</td><td>4.42</td></tr>",
                            "<tr><td>The Return of the King (The Lord of the Rings, #3)</td><td>18512</td><td>J.R.R. Tolkien</td><td>4.51</td></tr>",
                            "<tr><td>The Lord of the Rings (The Lord of the Rings, #1-3)</td><td>33</td><td>J.R.R. Tolkien</td><td>4.47</td></tr>",
                            "<tr><td>J.R.R. Tolkien 4-Book Boxed Set: The Hobbit and The Lord of the Rings</td><td>30</td><td>J.R.R. Tolkien</td><td>4.59</td></tr>",
                            "</table>"
                        ]
                    }
                }
            ],
            "execution_count": 61
        },
        {
            "cell_type": "markdown",
            "source": [
                "Your Question: Click here to add"
            ],
            "metadata": {
                "azdata_cell_guid": "9386ad04-a016-44d4-8c5c-d25a102d47b4"
            }
        },
        {
            "cell_type": "code",
            "source": [
                "-- Add your querry here Query the Harry Potter original series in order by original_publication_year, including title, authors, original_publication_year, and average_rating\n",
                "SELECT title,\n",
                "    authors,\n",
                "    original_publication_year,\n",
                "    average_rating\n",
                "FROM BooksDB.dbo.books\n",
                "WHERE title LIKE 'Harry Potter and the%' AND authors LIKE  'J.K. Rowling%'\n",
                "ORDER BY original_publication_year"
            ],
            "metadata": {
                "azdata_cell_guid": "15f249cf-aad7-468d-92e1-429b2a09f285",
                "language": "sql"
            },
            "outputs": [
                {
                    "output_type": "display_data",
                    "data": {
                        "text/html": "(8 rows affected)"
                    },
                    "metadata": {}
                },
                {
                    "output_type": "display_data",
                    "data": {
                        "text/html": "Total execution time: 00:00:00.058"
                    },
                    "metadata": {}
                },
                {
                    "output_type": "execute_result",
                    "metadata": {},
                    "execution_count": 68,
                    "data": {
                        "application/vnd.dataresource+json": {
                            "schema": {
                                "fields": [
                                    {
                                        "name": "title"
                                    },
                                    {
                                        "name": "authors"
                                    },
                                    {
                                        "name": "original_publication_year"
                                    },
                                    {
                                        "name": "average_rating"
                                    }
                                ]
                            },
                            "data": [
                                {
                                    "0": "Harry Potter and the Sorcerer's Stone (Harry Potter, #1)",
                                    "1": "J.K. Rowling, Mary GrandPré",
                                    "2": "1997",
                                    "3": "4.44"
                                },
                                {
                                    "0": "Harry Potter and the Chamber of Secrets (Harry Potter, #2)",
                                    "1": "J.K. Rowling, Mary GrandPré",
                                    "2": "1998",
                                    "3": "4.37"
                                },
                                {
                                    "0": "Harry Potter and the Prisoner of Azkaban (Harry Potter, #3)",
                                    "1": "J.K. Rowling, Mary GrandPré, Rufus Beck",
                                    "2": "1999",
                                    "3": "4.53"
                                },
                                {
                                    "0": "Harry Potter and the Goblet of Fire (Harry Potter, #4)",
                                    "1": "J.K. Rowling, Mary GrandPré",
                                    "2": "2000",
                                    "3": "4.53"
                                },
                                {
                                    "0": "Harry Potter and the Order of the Phoenix (Harry Potter, #5)",
                                    "1": "J.K. Rowling, Mary GrandPré",
                                    "2": "2003",
                                    "3": "4.46"
                                },
                                {
                                    "0": "Harry Potter and the Order of the Phoenix (Harry Potter, #5, Part 1)",
                                    "1": "J.K. Rowling",
                                    "2": "2003",
                                    "3": "4.56"
                                },
                                {
                                    "0": "Harry Potter and the Half-Blood Prince (Harry Potter, #6)",
                                    "1": "J.K. Rowling, Mary GrandPré",
                                    "2": "2005",
                                    "3": "4.54"
                                },
                                {
                                    "0": "Harry Potter and the Deathly Hallows (Harry Potter, #7)",
                                    "1": "J.K. Rowling, Mary GrandPré",
                                    "2": "2007",
                                    "3": "4.61"
                                }
                            ]
                        },
                        "text/html": [
                            "<table>",
                            "<tr><th>title</th><th>authors</th><th>original_publication_year</th><th>average_rating</th></tr>",
                            "<tr><td>Harry Potter and the Sorcerer's Stone (Harry Potter, #1)</td><td>J.K. Rowling, Mary GrandPré</td><td>1997</td><td>4.44</td></tr>",
                            "<tr><td>Harry Potter and the Chamber of Secrets (Harry Potter, #2)</td><td>J.K. Rowling, Mary GrandPré</td><td>1998</td><td>4.37</td></tr>",
                            "<tr><td>Harry Potter and the Prisoner of Azkaban (Harry Potter, #3)</td><td>J.K. Rowling, Mary GrandPré, Rufus Beck</td><td>1999</td><td>4.53</td></tr>",
                            "<tr><td>Harry Potter and the Goblet of Fire (Harry Potter, #4)</td><td>J.K. Rowling, Mary GrandPré</td><td>2000</td><td>4.53</td></tr>",
                            "<tr><td>Harry Potter and the Order of the Phoenix (Harry Potter, #5)</td><td>J.K. Rowling, Mary GrandPré</td><td>2003</td><td>4.46</td></tr>",
                            "<tr><td>Harry Potter and the Order of the Phoenix (Harry Potter, #5, Part 1)</td><td>J.K. Rowling</td><td>2003</td><td>4.56</td></tr>",
                            "<tr><td>Harry Potter and the Half-Blood Prince (Harry Potter, #6)</td><td>J.K. Rowling, Mary GrandPré</td><td>2005</td><td>4.54</td></tr>",
                            "<tr><td>Harry Potter and the Deathly Hallows (Harry Potter, #7)</td><td>J.K. Rowling, Mary GrandPré</td><td>2007</td><td>4.61</td></tr>",
                            "</table>"
                        ]
                    }
                }
            ],
            "execution_count": 68
        },
        {
            "cell_type": "markdown",
            "source": [
                "**Some Question Examples:**\n",
                "\n",
                "Write a query that returns the longest title?\n",
                "\n",
                "Which Author has written the most books?  \n",
                "\n",
                "Top  ten books written the year I was born?"
            ],
            "metadata": {
                "azdata_cell_guid": "7160362b-7127-4123-bd1d-95a94ae38a07"
            }
        }
    ]
}